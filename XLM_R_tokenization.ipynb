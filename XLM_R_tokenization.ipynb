{
  "nbformat": 4,
  "nbformat_minor": 0,
  "metadata": {
    "colab": {
      "name": "XLM-R_tokenization.ipynb",
      "provenance": [],
      "collapsed_sections": []
    },
    "kernelspec": {
      "name": "python3",
      "display_name": "Python 3"
    },
    "language_info": {
      "name": "python"
    }
  },
  "cells": [
    {
      "cell_type": "code",
      "source": [
        "!pip install transformers"
      ],
      "metadata": {
        "id": "pFuCdWxJBmzl"
      },
      "execution_count": null,
      "outputs": []
    },
    {
      "cell_type": "markdown",
      "source": [
        "## Tokenization"
      ],
      "metadata": {
        "id": "y9TU7cu1BPU-"
      }
    },
    {
      "cell_type": "code",
      "source": [
        "from transformers import AutoTokenizer"
      ],
      "metadata": {
        "id": "L8WDTX5lBRIv"
      },
      "execution_count": null,
      "outputs": []
    },
    {
      "cell_type": "code",
      "source": [
        "bert = \"bert-base-cased\"\n",
        "xlmr = \"xlm-roberta-base\"\n",
        "bert_tokenizer = AutoTokenizer.from_pretrained(bert)\n",
        "xlmr_tokenizer = AutoTokenizer.from_pretrained(xlmr)"
      ],
      "metadata": {
        "id": "Nj2kc78UBXiU"
      },
      "execution_count": null,
      "outputs": []
    },
    {
      "cell_type": "markdown",
      "source": [
        "Compare BERT and XLM-R tokenization"
      ],
      "metadata": {
        "id": "1gn4bENGSMok"
      }
    },
    {
      "cell_type": "code",
      "source": [
        "text = \"London weather like UAE nowadays. Day long.\"\n",
        "bert_tokens = bert_tokenizer(text.lower()).tokens()\n",
        "xlmr_tokens = xlmr_tokenizer(text.lower()).tokens()\n",
        "bert_tokens, xlmr_tokens"
      ],
      "metadata": {
        "colab": {
          "base_uri": "https://localhost:8080/"
        },
        "id": "zuQOn_RhCG8z",
        "outputId": "a39d616c-f633-474a-a61d-5cf5cd1c1168"
      },
      "execution_count": null,
      "outputs": [
        {
          "output_type": "execute_result",
          "data": {
            "text/plain": [
              "(['[CLS]',\n",
              "  'lo',\n",
              "  '##ndon',\n",
              "  'weather',\n",
              "  'like',\n",
              "  'u',\n",
              "  '##ae',\n",
              "  'nowadays',\n",
              "  '.',\n",
              "  'day',\n",
              "  'long',\n",
              "  '.',\n",
              "  '[SEP]'],\n",
              " ['<s>',\n",
              "  '▁london',\n",
              "  '▁weather',\n",
              "  '▁like',\n",
              "  '▁u',\n",
              "  'a',\n",
              "  'e',\n",
              "  '▁nowa',\n",
              "  'day',\n",
              "  's',\n",
              "  '.',\n",
              "  '▁day',\n",
              "  '▁long',\n",
              "  '.',\n",
              "  '</s>'])"
            ]
          },
          "metadata": {},
          "execution_count": 78
        }
      ]
    },
    {
      "cell_type": "code",
      "source": [
        "pd.DataFrame([bert_tokens, xlmr_tokens],\n",
        "             [\"bert\", \"xlmr\"])"
      ],
      "metadata": {
        "colab": {
          "base_uri": "https://localhost:8080/",
          "height": 112
        },
        "id": "WJPK_jQSC3uE",
        "outputId": "25373510-0596-4b32-88b7-05316a41ffad"
      },
      "execution_count": null,
      "outputs": [
        {
          "output_type": "execute_result",
          "data": {
            "text/plain": [
              "         0        1         2        3     4  5     6         7    8    9   \\\n",
              "bert  [CLS]       lo    ##ndon  weather  like  u  ##ae  nowadays    .  day   \n",
              "xlmr    <s>  ▁london  ▁weather    ▁like    ▁u  a     e     ▁nowa  day    s   \n",
              "\n",
              "        10    11     12    13    14  \n",
              "bert  long     .  [SEP]  None  None  \n",
              "xlmr     .  ▁day  ▁long     .  </s>  "
            ],
            "text/html": [
              "\n",
              "  <div id=\"df-dfec6808-7f9d-46fe-8836-e398c4336e23\">\n",
              "    <div class=\"colab-df-container\">\n",
              "      <div>\n",
              "<style scoped>\n",
              "    .dataframe tbody tr th:only-of-type {\n",
              "        vertical-align: middle;\n",
              "    }\n",
              "\n",
              "    .dataframe tbody tr th {\n",
              "        vertical-align: top;\n",
              "    }\n",
              "\n",
              "    .dataframe thead th {\n",
              "        text-align: right;\n",
              "    }\n",
              "</style>\n",
              "<table border=\"1\" class=\"dataframe\">\n",
              "  <thead>\n",
              "    <tr style=\"text-align: right;\">\n",
              "      <th></th>\n",
              "      <th>0</th>\n",
              "      <th>1</th>\n",
              "      <th>2</th>\n",
              "      <th>3</th>\n",
              "      <th>4</th>\n",
              "      <th>5</th>\n",
              "      <th>6</th>\n",
              "      <th>7</th>\n",
              "      <th>8</th>\n",
              "      <th>9</th>\n",
              "      <th>10</th>\n",
              "      <th>11</th>\n",
              "      <th>12</th>\n",
              "      <th>13</th>\n",
              "      <th>14</th>\n",
              "    </tr>\n",
              "  </thead>\n",
              "  <tbody>\n",
              "    <tr>\n",
              "      <th>bert</th>\n",
              "      <td>[CLS]</td>\n",
              "      <td>lo</td>\n",
              "      <td>##ndon</td>\n",
              "      <td>weather</td>\n",
              "      <td>like</td>\n",
              "      <td>u</td>\n",
              "      <td>##ae</td>\n",
              "      <td>nowadays</td>\n",
              "      <td>.</td>\n",
              "      <td>day</td>\n",
              "      <td>long</td>\n",
              "      <td>.</td>\n",
              "      <td>[SEP]</td>\n",
              "      <td>None</td>\n",
              "      <td>None</td>\n",
              "    </tr>\n",
              "    <tr>\n",
              "      <th>xlmr</th>\n",
              "      <td>&lt;s&gt;</td>\n",
              "      <td>▁london</td>\n",
              "      <td>▁weather</td>\n",
              "      <td>▁like</td>\n",
              "      <td>▁u</td>\n",
              "      <td>a</td>\n",
              "      <td>e</td>\n",
              "      <td>▁nowa</td>\n",
              "      <td>day</td>\n",
              "      <td>s</td>\n",
              "      <td>.</td>\n",
              "      <td>▁day</td>\n",
              "      <td>▁long</td>\n",
              "      <td>.</td>\n",
              "      <td>&lt;/s&gt;</td>\n",
              "    </tr>\n",
              "  </tbody>\n",
              "</table>\n",
              "</div>\n",
              "      <button class=\"colab-df-convert\" onclick=\"convertToInteractive('df-dfec6808-7f9d-46fe-8836-e398c4336e23')\"\n",
              "              title=\"Convert this dataframe to an interactive table.\"\n",
              "              style=\"display:none;\">\n",
              "        \n",
              "  <svg xmlns=\"http://www.w3.org/2000/svg\" height=\"24px\"viewBox=\"0 0 24 24\"\n",
              "       width=\"24px\">\n",
              "    <path d=\"M0 0h24v24H0V0z\" fill=\"none\"/>\n",
              "    <path d=\"M18.56 5.44l.94 2.06.94-2.06 2.06-.94-2.06-.94-.94-2.06-.94 2.06-2.06.94zm-11 1L8.5 8.5l.94-2.06 2.06-.94-2.06-.94L8.5 2.5l-.94 2.06-2.06.94zm10 10l.94 2.06.94-2.06 2.06-.94-2.06-.94-.94-2.06-.94 2.06-2.06.94z\"/><path d=\"M17.41 7.96l-1.37-1.37c-.4-.4-.92-.59-1.43-.59-.52 0-1.04.2-1.43.59L10.3 9.45l-7.72 7.72c-.78.78-.78 2.05 0 2.83L4 21.41c.39.39.9.59 1.41.59.51 0 1.02-.2 1.41-.59l7.78-7.78 2.81-2.81c.8-.78.8-2.07 0-2.86zM5.41 20L4 18.59l7.72-7.72 1.47 1.35L5.41 20z\"/>\n",
              "  </svg>\n",
              "      </button>\n",
              "      \n",
              "  <style>\n",
              "    .colab-df-container {\n",
              "      display:flex;\n",
              "      flex-wrap:wrap;\n",
              "      gap: 12px;\n",
              "    }\n",
              "\n",
              "    .colab-df-convert {\n",
              "      background-color: #E8F0FE;\n",
              "      border: none;\n",
              "      border-radius: 50%;\n",
              "      cursor: pointer;\n",
              "      display: none;\n",
              "      fill: #1967D2;\n",
              "      height: 32px;\n",
              "      padding: 0 0 0 0;\n",
              "      width: 32px;\n",
              "    }\n",
              "\n",
              "    .colab-df-convert:hover {\n",
              "      background-color: #E2EBFA;\n",
              "      box-shadow: 0px 1px 2px rgba(60, 64, 67, 0.3), 0px 1px 3px 1px rgba(60, 64, 67, 0.15);\n",
              "      fill: #174EA6;\n",
              "    }\n",
              "\n",
              "    [theme=dark] .colab-df-convert {\n",
              "      background-color: #3B4455;\n",
              "      fill: #D2E3FC;\n",
              "    }\n",
              "\n",
              "    [theme=dark] .colab-df-convert:hover {\n",
              "      background-color: #434B5C;\n",
              "      box-shadow: 0px 1px 3px 1px rgba(0, 0, 0, 0.15);\n",
              "      filter: drop-shadow(0px 1px 2px rgba(0, 0, 0, 0.3));\n",
              "      fill: #FFFFFF;\n",
              "    }\n",
              "  </style>\n",
              "\n",
              "      <script>\n",
              "        const buttonEl =\n",
              "          document.querySelector('#df-dfec6808-7f9d-46fe-8836-e398c4336e23 button.colab-df-convert');\n",
              "        buttonEl.style.display =\n",
              "          google.colab.kernel.accessAllowed ? 'block' : 'none';\n",
              "\n",
              "        async function convertToInteractive(key) {\n",
              "          const element = document.querySelector('#df-dfec6808-7f9d-46fe-8836-e398c4336e23');\n",
              "          const dataTable =\n",
              "            await google.colab.kernel.invokeFunction('convertToInteractive',\n",
              "                                                     [key], {});\n",
              "          if (!dataTable) return;\n",
              "\n",
              "          const docLinkHtml = 'Like what you see? Visit the ' +\n",
              "            '<a target=\"_blank\" href=https://colab.research.google.com/notebooks/data_table.ipynb>data table notebook</a>'\n",
              "            + ' to learn more about interactive tables.';\n",
              "          element.innerHTML = '';\n",
              "          dataTable['output_type'] = 'display_data';\n",
              "          await google.colab.output.renderOutput(dataTable, element);\n",
              "          const docLink = document.createElement('div');\n",
              "          docLink.innerHTML = docLinkHtml;\n",
              "          element.appendChild(docLink);\n",
              "        }\n",
              "      </script>\n",
              "    </div>\n",
              "  </div>\n",
              "  "
            ]
          },
          "metadata": {},
          "execution_count": 79
        }
      ]
    },
    {
      "cell_type": "markdown",
      "source": [
        "XLM-R uses SentencePiece tokenization. That means Unigram subword tokenization applied and each input text encoded as a sequence of Unicode characters.\n",
        "It can be seen that with SentencePiece tokenization whitespaces are kept while in BERT model they are lost after tokenization.\n",
        "\n",
        "BERT standard tokens [CLS] and [SEP] replaces with < s > and < /s >\n",
        "\n"
      ],
      "metadata": {
        "id": "A2XlkyY2SRg0"
      }
    },
    {
      "cell_type": "code",
      "source": [
        ""
      ],
      "metadata": {
        "id": "ypxK4xa9DQa_"
      },
      "execution_count": null,
      "outputs": []
    }
  ]
}